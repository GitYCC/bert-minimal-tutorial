{
  "nbformat": 4,
  "nbformat_minor": 0,
  "metadata": {
    "colab": {
      "name": "chinese_sentiment_classification.ipynb",
      "provenance": [],
      "collapsed_sections": [],
      "toc_visible": true,
      "authorship_tag": "ABX9TyOtFi+EorBmXhuK0h3TO7kP",
      "include_colab_link": true
    },
    "kernelspec": {
      "name": "python3",
      "display_name": "Python 3"
    },
    "accelerator": "GPU"
  },
  "cells": [
    {
      "cell_type": "markdown",
      "metadata": {
        "id": "view-in-github",
        "colab_type": "text"
      },
      "source": [
        "<a href=\"https://colab.research.google.com/github/GitYCC/bert-minimal-tutorial/blob/master/chinese_sentiment_classification.ipynb\" target=\"_parent\"><img src=\"https://colab.research.google.com/assets/colab-badge.svg\" alt=\"Open In Colab\"/></a>"
      ]
    },
    {
      "cell_type": "markdown",
      "metadata": {
        "id": "qH_E6svUQa_U"
      },
      "source": [
        "# Chinese Sentiment Classification"
      ]
    },
    {
      "cell_type": "code",
      "metadata": {
        "id": "szYZxfyBQFaC",
        "outputId": "e5eb0bb1-47d7-449e-db51-179f5c24b61c",
        "colab": {
          "base_uri": "https://localhost:8080/"
        }
      },
      "source": [
        "!git clone https://github.com/GitYCC/bert-minimal-tutorial.git"
      ],
      "execution_count": 1,
      "outputs": [
        {
          "output_type": "stream",
          "text": [
            "Cloning into 'bert-minimal-tutorial'...\n",
            "remote: Enumerating objects: 23, done.\u001b[K\n",
            "remote: Counting objects: 100% (23/23), done.\u001b[K\n",
            "remote: Compressing objects: 100% (18/18), done.\u001b[K\n",
            "remote: Total 23 (delta 7), reused 19 (delta 3), pack-reused 0\u001b[K\n",
            "Unpacking objects: 100% (23/23), done.\n"
          ],
          "name": "stdout"
        }
      ]
    },
    {
      "cell_type": "code",
      "metadata": {
        "id": "uRUAy5cjQrm8",
        "outputId": "83a1d772-2887-4a7e-f79d-408166bf9a90",
        "colab": {
          "base_uri": "https://localhost:8080/"
        }
      },
      "source": [
        "%cd bert-minimal-tutorial"
      ],
      "execution_count": 2,
      "outputs": [
        {
          "output_type": "stream",
          "text": [
            "/content/bert-minimal-tutorial\n"
          ],
          "name": "stdout"
        }
      ]
    },
    {
      "cell_type": "code",
      "metadata": {
        "id": "w7UI7hz5QxJL",
        "outputId": "452079ac-b3d6-45e1-fa53-6e589839e9c0",
        "colab": {
          "base_uri": "https://localhost:8080/"
        }
      },
      "source": [
        "!pip install -q -r requirements.txt"
      ],
      "execution_count": 3,
      "outputs": [
        {
          "output_type": "stream",
          "text": [
            "\u001b[?25l\r\u001b[K     |▋                               | 10kB 26.8MB/s eta 0:00:01\r\u001b[K     |█▎                              | 20kB 3.6MB/s eta 0:00:01\r\u001b[K     |██                              | 30kB 4.7MB/s eta 0:00:01\r\u001b[K     |██▋                             | 40kB 5.0MB/s eta 0:00:01\r\u001b[K     |███▏                            | 51kB 4.2MB/s eta 0:00:01\r\u001b[K     |███▉                            | 61kB 4.6MB/s eta 0:00:01\r\u001b[K     |████▌                           | 71kB 5.1MB/s eta 0:00:01\r\u001b[K     |█████▏                          | 81kB 5.5MB/s eta 0:00:01\r\u001b[K     |█████▉                          | 92kB 5.8MB/s eta 0:00:01\r\u001b[K     |██████▍                         | 102kB 5.7MB/s eta 0:00:01\r\u001b[K     |███████                         | 112kB 5.7MB/s eta 0:00:01\r\u001b[K     |███████▊                        | 122kB 5.7MB/s eta 0:00:01\r\u001b[K     |████████▍                       | 133kB 5.7MB/s eta 0:00:01\r\u001b[K     |█████████                       | 143kB 5.7MB/s eta 0:00:01\r\u001b[K     |█████████▋                      | 153kB 5.7MB/s eta 0:00:01\r\u001b[K     |██████████▎                     | 163kB 5.7MB/s eta 0:00:01\r\u001b[K     |███████████                     | 174kB 5.7MB/s eta 0:00:01\r\u001b[K     |███████████▋                    | 184kB 5.7MB/s eta 0:00:01\r\u001b[K     |████████████▎                   | 194kB 5.7MB/s eta 0:00:01\r\u001b[K     |████████████▉                   | 204kB 5.7MB/s eta 0:00:01\r\u001b[K     |█████████████▌                  | 215kB 5.7MB/s eta 0:00:01\r\u001b[K     |██████████████▏                 | 225kB 5.7MB/s eta 0:00:01\r\u001b[K     |██████████████▉                 | 235kB 5.7MB/s eta 0:00:01\r\u001b[K     |███████████████▌                | 245kB 5.7MB/s eta 0:00:01\r\u001b[K     |████████████████                | 256kB 5.7MB/s eta 0:00:01\r\u001b[K     |████████████████▊               | 266kB 5.7MB/s eta 0:00:01\r\u001b[K     |█████████████████▍              | 276kB 5.7MB/s eta 0:00:01\r\u001b[K     |██████████████████              | 286kB 5.7MB/s eta 0:00:01\r\u001b[K     |██████████████████▊             | 296kB 5.7MB/s eta 0:00:01\r\u001b[K     |███████████████████▎            | 307kB 5.7MB/s eta 0:00:01\r\u001b[K     |████████████████████            | 317kB 5.7MB/s eta 0:00:01\r\u001b[K     |████████████████████▋           | 327kB 5.7MB/s eta 0:00:01\r\u001b[K     |█████████████████████▎          | 337kB 5.7MB/s eta 0:00:01\r\u001b[K     |█████████████████████▉          | 348kB 5.7MB/s eta 0:00:01\r\u001b[K     |██████████████████████▌         | 358kB 5.7MB/s eta 0:00:01\r\u001b[K     |███████████████████████▏        | 368kB 5.7MB/s eta 0:00:01\r\u001b[K     |███████████████████████▉        | 378kB 5.7MB/s eta 0:00:01\r\u001b[K     |████████████████████████▌       | 389kB 5.7MB/s eta 0:00:01\r\u001b[K     |█████████████████████████       | 399kB 5.7MB/s eta 0:00:01\r\u001b[K     |█████████████████████████▊      | 409kB 5.7MB/s eta 0:00:01\r\u001b[K     |██████████████████████████▍     | 419kB 5.7MB/s eta 0:00:01\r\u001b[K     |███████████████████████████     | 430kB 5.7MB/s eta 0:00:01\r\u001b[K     |███████████████████████████▊    | 440kB 5.7MB/s eta 0:00:01\r\u001b[K     |████████████████████████████▎   | 450kB 5.7MB/s eta 0:00:01\r\u001b[K     |█████████████████████████████   | 460kB 5.7MB/s eta 0:00:01\r\u001b[K     |█████████████████████████████▋  | 471kB 5.7MB/s eta 0:00:01\r\u001b[K     |██████████████████████████████▎ | 481kB 5.7MB/s eta 0:00:01\r\u001b[K     |███████████████████████████████ | 491kB 5.7MB/s eta 0:00:01\r\u001b[K     |███████████████████████████████▌| 501kB 5.7MB/s eta 0:00:01\r\u001b[K     |████████████████████████████████| 512kB 5.7MB/s \n",
            "\u001b[31mERROR: google-colab 1.0.0 has requirement requests~=2.23.0, but you'll have requests 2.24.0 which is incompatible.\u001b[0m\n",
            "\u001b[?25h"
          ],
          "name": "stdout"
        }
      ]
    },
    {
      "cell_type": "code",
      "metadata": {
        "id": "OcxBSB_KQ36A"
      },
      "source": [
        "import os\n",
        "\n",
        "import pandas as pd\n",
        "import torch\n",
        "import torch.optim as optim\n",
        "from torch.utils.data import Dataset, DataLoader, random_split\n",
        "from torch.nn.utils.rnn import pad_sequence\n",
        "from transformers import BertTokenizer, BertForSequenceClassification\n",
        "from tqdm import tqdm\n",
        "\n",
        "from utils import RunningAverage\n",
        "\n",
        "MODEL_NAME = 'bert-base-chinese'"
      ],
      "execution_count": 13,
      "outputs": []
    },
    {
      "cell_type": "markdown",
      "metadata": {
        "id": "3tKT4nZARDS_"
      },
      "source": [
        "## Dataloader"
      ]
    },
    {
      "cell_type": "code",
      "metadata": {
        "id": "fr3kbaBjRN_r"
      },
      "source": [
        "df = pd.read_csv('data/chinese_sentiment_classification.csv')\n",
        "df = df.sample(frac=1).reset_index(drop=True)  # shuffle"
      ],
      "execution_count": 5,
      "outputs": []
    },
    {
      "cell_type": "code",
      "metadata": {
        "id": "oRND_YmJST2E",
        "outputId": "4225050f-9865-4b6b-cc37-84712c3389a6",
        "colab": {
          "base_uri": "https://localhost:8080/",
          "height": 419
        }
      },
      "source": [
        "df"
      ],
      "execution_count": 6,
      "outputs": [
        {
          "output_type": "execute_result",
          "data": {
            "text/html": [
              "<div>\n",
              "<style scoped>\n",
              "    .dataframe tbody tr th:only-of-type {\n",
              "        vertical-align: middle;\n",
              "    }\n",
              "\n",
              "    .dataframe tbody tr th {\n",
              "        vertical-align: top;\n",
              "    }\n",
              "\n",
              "    .dataframe thead th {\n",
              "        text-align: right;\n",
              "    }\n",
              "</style>\n",
              "<table border=\"1\" class=\"dataframe\">\n",
              "  <thead>\n",
              "    <tr style=\"text-align: right;\">\n",
              "      <th></th>\n",
              "      <th>label</th>\n",
              "      <th>text</th>\n",
              "    </tr>\n",
              "  </thead>\n",
              "  <tbody>\n",
              "    <tr>\n",
              "      <th>0</th>\n",
              "      <td>0</td>\n",
              "      <td>氣味畢較大，都是塑料的多。a柱盲區比較大，要多注意轉彎的多候，躁音挺大的，但也不像網上說的那...</td>\n",
              "    </tr>\n",
              "    <tr>\n",
              "      <th>1</th>\n",
              "      <td>0</td>\n",
              "      <td>中門關閉吃力</td>\n",
              "    </tr>\n",
              "    <tr>\n",
              "      <th>2</th>\n",
              "      <td>1</td>\n",
              "      <td>空間很大，買的時候就是看重；了他的空間大，裝東西，裝貨物，承載量很大，非常的實用，</td>\n",
              "    </tr>\n",
              "    <tr>\n",
              "      <th>3</th>\n",
              "      <td>0</td>\n",
              "      <td>頭頂位置偏小日間行車燈打不開，導航不是太會弄，不好操作啊，還不能取消，缺點，換其他的導航又不會，</td>\n",
              "    </tr>\n",
              "    <tr>\n",
              "      <th>4</th>\n",
              "      <td>1</td>\n",
              "      <td>帥到沒有朋友</td>\n",
              "    </tr>\n",
              "    <tr>\n",
              "      <th>...</th>\n",
              "      <td>...</td>\n",
              "      <td>...</td>\n",
              "    </tr>\n",
              "    <tr>\n",
              "      <th>69995</th>\n",
              "      <td>0</td>\n",
              "      <td>離合。低速行駛時，是有點尷尬，高速實用</td>\n",
              "    </tr>\n",
              "    <tr>\n",
              "      <th>69996</th>\n",
              "      <td>0</td>\n",
              "      <td>不滿意的地方有兩個，第一:駕駛座不支持高低調節。第二:第三排確實小了點。如果可以在加長些就無...</td>\n",
              "    </tr>\n",
              "    <tr>\n",
              "      <th>69997</th>\n",
              "      <td>0</td>\n",
              "      <td>手動變速箱匹配不是太順暢，離合偏重，也不是電子轉向也偏重。</td>\n",
              "    </tr>\n",
              "    <tr>\n",
              "      <th>69998</th>\n",
              "      <td>1</td>\n",
              "      <td>最滿意的就是車子的實用性，當初花幾萬塊錢入手的車皮本來就沒打算有多高端的表現，所以智尚s35...</td>\n",
              "    </tr>\n",
              "    <tr>\n",
              "      <th>69999</th>\n",
              "      <td>1</td>\n",
              "      <td>空間足夠，經濟實惠</td>\n",
              "    </tr>\n",
              "  </tbody>\n",
              "</table>\n",
              "<p>70000 rows × 2 columns</p>\n",
              "</div>"
            ],
            "text/plain": [
              "       label                                               text\n",
              "0          0  氣味畢較大，都是塑料的多。a柱盲區比較大，要多注意轉彎的多候，躁音挺大的，但也不像網上說的那...\n",
              "1          0                                             中門關閉吃力\n",
              "2          1          空間很大，買的時候就是看重；了他的空間大，裝東西，裝貨物，承載量很大，非常的實用，\n",
              "3          0   頭頂位置偏小日間行車燈打不開，導航不是太會弄，不好操作啊，還不能取消，缺點，換其他的導航又不會，\n",
              "4          1                                             帥到沒有朋友\n",
              "...      ...                                                ...\n",
              "69995      0                                離合。低速行駛時，是有點尷尬，高速實用\n",
              "69996      0  不滿意的地方有兩個，第一:駕駛座不支持高低調節。第二:第三排確實小了點。如果可以在加長些就無...\n",
              "69997      0                      手動變速箱匹配不是太順暢，離合偏重，也不是電子轉向也偏重。\n",
              "69998      1  最滿意的就是車子的實用性，當初花幾萬塊錢入手的車皮本來就沒打算有多高端的表現，所以智尚s35...\n",
              "69999      1                                          空間足夠，經濟實惠\n",
              "\n",
              "[70000 rows x 2 columns]"
            ]
          },
          "metadata": {
            "tags": []
          },
          "execution_count": 6
        }
      ]
    },
    {
      "cell_type": "code",
      "metadata": {
        "id": "nDwgs9MgSWO2"
      },
      "source": [
        "class MultiClassDataset(Dataset):\n",
        "    def __init__(self, tokenizer, df, max_len=512):\n",
        "        self.tokenizer = tokenizer\n",
        "        self.texts = []\n",
        "        self.labels = []\n",
        "        for _, row in df.iterrows():\n",
        "            self.texts.append(row['text'])\n",
        "            self.labels.append(row['label'])\n",
        "        self.max_len = max_len\n",
        "\n",
        "    def __getitem__(self, idx):\n",
        "        text = self.texts[idx]\n",
        "        label = self.labels[idx]\n",
        "\n",
        "        tokens = self.tokenizer.tokenize(text)\n",
        "        tokens = tokens[:self.max_len-2]\n",
        "        processed_tokens = ['[CLS]'] + tokens + ['[SEP]']\n",
        "\n",
        "        input_ids = torch.tensor(self.tokenizer.convert_tokens_to_ids(processed_tokens))\n",
        "        token_type_ids = torch.tensor([0] * len(processed_tokens))\n",
        "        attention_mask = torch.tensor([1] * len(processed_tokens))\n",
        "\n",
        "        label = torch.tensor(label)\n",
        "\n",
        "        return input_ids, token_type_ids, attention_mask, label\n",
        "\n",
        "    def __len__(self):\n",
        "        return len(self.texts)\n",
        "\n",
        "\n",
        "def create_mini_batch(samples):\n",
        "    input_ids, token_type_ids, attention_mask, labels = list(zip(*samples))\n",
        "\n",
        "    # zero pad 到同一序列長度\n",
        "    input_ids = pad_sequence(input_ids, batch_first=True)\n",
        "    token_type_ids = pad_sequence(token_type_ids, batch_first=True)\n",
        "    attention_mask = pad_sequence(attention_mask, batch_first=True)\n",
        " \n",
        "    labels = torch.stack(labels)\n",
        "\n",
        "    return input_ids, token_type_ids, attention_mask, labels"
      ],
      "execution_count": 7,
      "outputs": []
    },
    {
      "cell_type": "code",
      "metadata": {
        "id": "7OkQ7x2jYAcI"
      },
      "source": [
        "tokenizer = BertTokenizer.from_pretrained(MODEL_NAME)\n",
        "\n",
        "dataset = MultiClassDataset(tokenizer, df)\n",
        "\n",
        "CUT_RATIO = 0.8\n",
        "train_size = int(CUT_RATIO * len(dataset))\n",
        "valid_size = len(dataset) - train_size\n",
        "train_dataset, valid_dataset = random_split(dataset, [train_size, valid_size])"
      ],
      "execution_count": 8,
      "outputs": []
    },
    {
      "cell_type": "code",
      "metadata": {
        "id": "n_8COlqIYMl5"
      },
      "source": [
        "batch_size = 32\n",
        "\n",
        "train_loader = DataLoader(\n",
        "    dataset=train_dataset,\n",
        "    batch_size=batch_size,\n",
        "    collate_fn=create_mini_batch,\n",
        "    shuffle=True\n",
        ")\n",
        "valid_loader = DataLoader(\n",
        "    dataset=valid_dataset,\n",
        "    batch_size=batch_size,\n",
        "    collate_fn=create_mini_batch,\n",
        ")"
      ],
      "execution_count": 9,
      "outputs": []
    },
    {
      "cell_type": "markdown",
      "metadata": {
        "id": "gyWshgkTZn5V"
      },
      "source": [
        "## Model"
      ]
    },
    {
      "cell_type": "code",
      "metadata": {
        "id": "A7g4EF2lYkEZ",
        "outputId": "23f9f662-5c27-45f0-d2ad-e45fbf0f45b4",
        "colab": {
          "base_uri": "https://localhost:8080/"
        }
      },
      "source": [
        "device = torch.device('cuda' if torch.cuda.is_available() else 'cpu')\n",
        "print(f'device: {device}')\n",
        "\n",
        "model = BertForSequenceClassification.from_pretrained(\n",
        "    MODEL_NAME, \n",
        "    num_labels = 2, \n",
        "    output_attentions = False, \n",
        "    output_hidden_states = False,\n",
        "    return_dict=True\n",
        ")\n",
        "model.to(device)"
      ],
      "execution_count": 10,
      "outputs": [
        {
          "output_type": "stream",
          "text": [
            "device: cuda\n"
          ],
          "name": "stdout"
        },
        {
          "output_type": "stream",
          "text": [
            "Some weights of the model checkpoint at bert-base-chinese were not used when initializing BertForSequenceClassification: ['cls.predictions.bias', 'cls.predictions.transform.dense.weight', 'cls.predictions.transform.dense.bias', 'cls.predictions.decoder.weight', 'cls.seq_relationship.weight', 'cls.seq_relationship.bias', 'cls.predictions.transform.LayerNorm.weight', 'cls.predictions.transform.LayerNorm.bias']\n",
            "- This IS expected if you are initializing BertForSequenceClassification from the checkpoint of a model trained on another task or with another architecture (e.g. initializing a BertForSequenceClassification model from a BertForPretraining model).\n",
            "- This IS NOT expected if you are initializing BertForSequenceClassification from the checkpoint of a model that you expect to be exactly identical (initializing a BertForSequenceClassification model from a BertForSequenceClassification model).\n",
            "Some weights of BertForSequenceClassification were not initialized from the model checkpoint at bert-base-chinese and are newly initialized: ['classifier.weight', 'classifier.bias']\n",
            "You should probably TRAIN this model on a down-stream task to be able to use it for predictions and inference.\n"
          ],
          "name": "stderr"
        },
        {
          "output_type": "execute_result",
          "data": {
            "text/plain": [
              "BertForSequenceClassification(\n",
              "  (bert): BertModel(\n",
              "    (embeddings): BertEmbeddings(\n",
              "      (word_embeddings): Embedding(21128, 768, padding_idx=0)\n",
              "      (position_embeddings): Embedding(512, 768)\n",
              "      (token_type_embeddings): Embedding(2, 768)\n",
              "      (LayerNorm): LayerNorm((768,), eps=1e-12, elementwise_affine=True)\n",
              "      (dropout): Dropout(p=0.1, inplace=False)\n",
              "    )\n",
              "    (encoder): BertEncoder(\n",
              "      (layer): ModuleList(\n",
              "        (0): BertLayer(\n",
              "          (attention): BertAttention(\n",
              "            (self): BertSelfAttention(\n",
              "              (query): Linear(in_features=768, out_features=768, bias=True)\n",
              "              (key): Linear(in_features=768, out_features=768, bias=True)\n",
              "              (value): Linear(in_features=768, out_features=768, bias=True)\n",
              "              (dropout): Dropout(p=0.1, inplace=False)\n",
              "            )\n",
              "            (output): BertSelfOutput(\n",
              "              (dense): Linear(in_features=768, out_features=768, bias=True)\n",
              "              (LayerNorm): LayerNorm((768,), eps=1e-12, elementwise_affine=True)\n",
              "              (dropout): Dropout(p=0.1, inplace=False)\n",
              "            )\n",
              "          )\n",
              "          (intermediate): BertIntermediate(\n",
              "            (dense): Linear(in_features=768, out_features=3072, bias=True)\n",
              "          )\n",
              "          (output): BertOutput(\n",
              "            (dense): Linear(in_features=3072, out_features=768, bias=True)\n",
              "            (LayerNorm): LayerNorm((768,), eps=1e-12, elementwise_affine=True)\n",
              "            (dropout): Dropout(p=0.1, inplace=False)\n",
              "          )\n",
              "        )\n",
              "        (1): BertLayer(\n",
              "          (attention): BertAttention(\n",
              "            (self): BertSelfAttention(\n",
              "              (query): Linear(in_features=768, out_features=768, bias=True)\n",
              "              (key): Linear(in_features=768, out_features=768, bias=True)\n",
              "              (value): Linear(in_features=768, out_features=768, bias=True)\n",
              "              (dropout): Dropout(p=0.1, inplace=False)\n",
              "            )\n",
              "            (output): BertSelfOutput(\n",
              "              (dense): Linear(in_features=768, out_features=768, bias=True)\n",
              "              (LayerNorm): LayerNorm((768,), eps=1e-12, elementwise_affine=True)\n",
              "              (dropout): Dropout(p=0.1, inplace=False)\n",
              "            )\n",
              "          )\n",
              "          (intermediate): BertIntermediate(\n",
              "            (dense): Linear(in_features=768, out_features=3072, bias=True)\n",
              "          )\n",
              "          (output): BertOutput(\n",
              "            (dense): Linear(in_features=3072, out_features=768, bias=True)\n",
              "            (LayerNorm): LayerNorm((768,), eps=1e-12, elementwise_affine=True)\n",
              "            (dropout): Dropout(p=0.1, inplace=False)\n",
              "          )\n",
              "        )\n",
              "        (2): BertLayer(\n",
              "          (attention): BertAttention(\n",
              "            (self): BertSelfAttention(\n",
              "              (query): Linear(in_features=768, out_features=768, bias=True)\n",
              "              (key): Linear(in_features=768, out_features=768, bias=True)\n",
              "              (value): Linear(in_features=768, out_features=768, bias=True)\n",
              "              (dropout): Dropout(p=0.1, inplace=False)\n",
              "            )\n",
              "            (output): BertSelfOutput(\n",
              "              (dense): Linear(in_features=768, out_features=768, bias=True)\n",
              "              (LayerNorm): LayerNorm((768,), eps=1e-12, elementwise_affine=True)\n",
              "              (dropout): Dropout(p=0.1, inplace=False)\n",
              "            )\n",
              "          )\n",
              "          (intermediate): BertIntermediate(\n",
              "            (dense): Linear(in_features=768, out_features=3072, bias=True)\n",
              "          )\n",
              "          (output): BertOutput(\n",
              "            (dense): Linear(in_features=3072, out_features=768, bias=True)\n",
              "            (LayerNorm): LayerNorm((768,), eps=1e-12, elementwise_affine=True)\n",
              "            (dropout): Dropout(p=0.1, inplace=False)\n",
              "          )\n",
              "        )\n",
              "        (3): BertLayer(\n",
              "          (attention): BertAttention(\n",
              "            (self): BertSelfAttention(\n",
              "              (query): Linear(in_features=768, out_features=768, bias=True)\n",
              "              (key): Linear(in_features=768, out_features=768, bias=True)\n",
              "              (value): Linear(in_features=768, out_features=768, bias=True)\n",
              "              (dropout): Dropout(p=0.1, inplace=False)\n",
              "            )\n",
              "            (output): BertSelfOutput(\n",
              "              (dense): Linear(in_features=768, out_features=768, bias=True)\n",
              "              (LayerNorm): LayerNorm((768,), eps=1e-12, elementwise_affine=True)\n",
              "              (dropout): Dropout(p=0.1, inplace=False)\n",
              "            )\n",
              "          )\n",
              "          (intermediate): BertIntermediate(\n",
              "            (dense): Linear(in_features=768, out_features=3072, bias=True)\n",
              "          )\n",
              "          (output): BertOutput(\n",
              "            (dense): Linear(in_features=3072, out_features=768, bias=True)\n",
              "            (LayerNorm): LayerNorm((768,), eps=1e-12, elementwise_affine=True)\n",
              "            (dropout): Dropout(p=0.1, inplace=False)\n",
              "          )\n",
              "        )\n",
              "        (4): BertLayer(\n",
              "          (attention): BertAttention(\n",
              "            (self): BertSelfAttention(\n",
              "              (query): Linear(in_features=768, out_features=768, bias=True)\n",
              "              (key): Linear(in_features=768, out_features=768, bias=True)\n",
              "              (value): Linear(in_features=768, out_features=768, bias=True)\n",
              "              (dropout): Dropout(p=0.1, inplace=False)\n",
              "            )\n",
              "            (output): BertSelfOutput(\n",
              "              (dense): Linear(in_features=768, out_features=768, bias=True)\n",
              "              (LayerNorm): LayerNorm((768,), eps=1e-12, elementwise_affine=True)\n",
              "              (dropout): Dropout(p=0.1, inplace=False)\n",
              "            )\n",
              "          )\n",
              "          (intermediate): BertIntermediate(\n",
              "            (dense): Linear(in_features=768, out_features=3072, bias=True)\n",
              "          )\n",
              "          (output): BertOutput(\n",
              "            (dense): Linear(in_features=3072, out_features=768, bias=True)\n",
              "            (LayerNorm): LayerNorm((768,), eps=1e-12, elementwise_affine=True)\n",
              "            (dropout): Dropout(p=0.1, inplace=False)\n",
              "          )\n",
              "        )\n",
              "        (5): BertLayer(\n",
              "          (attention): BertAttention(\n",
              "            (self): BertSelfAttention(\n",
              "              (query): Linear(in_features=768, out_features=768, bias=True)\n",
              "              (key): Linear(in_features=768, out_features=768, bias=True)\n",
              "              (value): Linear(in_features=768, out_features=768, bias=True)\n",
              "              (dropout): Dropout(p=0.1, inplace=False)\n",
              "            )\n",
              "            (output): BertSelfOutput(\n",
              "              (dense): Linear(in_features=768, out_features=768, bias=True)\n",
              "              (LayerNorm): LayerNorm((768,), eps=1e-12, elementwise_affine=True)\n",
              "              (dropout): Dropout(p=0.1, inplace=False)\n",
              "            )\n",
              "          )\n",
              "          (intermediate): BertIntermediate(\n",
              "            (dense): Linear(in_features=768, out_features=3072, bias=True)\n",
              "          )\n",
              "          (output): BertOutput(\n",
              "            (dense): Linear(in_features=3072, out_features=768, bias=True)\n",
              "            (LayerNorm): LayerNorm((768,), eps=1e-12, elementwise_affine=True)\n",
              "            (dropout): Dropout(p=0.1, inplace=False)\n",
              "          )\n",
              "        )\n",
              "        (6): BertLayer(\n",
              "          (attention): BertAttention(\n",
              "            (self): BertSelfAttention(\n",
              "              (query): Linear(in_features=768, out_features=768, bias=True)\n",
              "              (key): Linear(in_features=768, out_features=768, bias=True)\n",
              "              (value): Linear(in_features=768, out_features=768, bias=True)\n",
              "              (dropout): Dropout(p=0.1, inplace=False)\n",
              "            )\n",
              "            (output): BertSelfOutput(\n",
              "              (dense): Linear(in_features=768, out_features=768, bias=True)\n",
              "              (LayerNorm): LayerNorm((768,), eps=1e-12, elementwise_affine=True)\n",
              "              (dropout): Dropout(p=0.1, inplace=False)\n",
              "            )\n",
              "          )\n",
              "          (intermediate): BertIntermediate(\n",
              "            (dense): Linear(in_features=768, out_features=3072, bias=True)\n",
              "          )\n",
              "          (output): BertOutput(\n",
              "            (dense): Linear(in_features=3072, out_features=768, bias=True)\n",
              "            (LayerNorm): LayerNorm((768,), eps=1e-12, elementwise_affine=True)\n",
              "            (dropout): Dropout(p=0.1, inplace=False)\n",
              "          )\n",
              "        )\n",
              "        (7): BertLayer(\n",
              "          (attention): BertAttention(\n",
              "            (self): BertSelfAttention(\n",
              "              (query): Linear(in_features=768, out_features=768, bias=True)\n",
              "              (key): Linear(in_features=768, out_features=768, bias=True)\n",
              "              (value): Linear(in_features=768, out_features=768, bias=True)\n",
              "              (dropout): Dropout(p=0.1, inplace=False)\n",
              "            )\n",
              "            (output): BertSelfOutput(\n",
              "              (dense): Linear(in_features=768, out_features=768, bias=True)\n",
              "              (LayerNorm): LayerNorm((768,), eps=1e-12, elementwise_affine=True)\n",
              "              (dropout): Dropout(p=0.1, inplace=False)\n",
              "            )\n",
              "          )\n",
              "          (intermediate): BertIntermediate(\n",
              "            (dense): Linear(in_features=768, out_features=3072, bias=True)\n",
              "          )\n",
              "          (output): BertOutput(\n",
              "            (dense): Linear(in_features=3072, out_features=768, bias=True)\n",
              "            (LayerNorm): LayerNorm((768,), eps=1e-12, elementwise_affine=True)\n",
              "            (dropout): Dropout(p=0.1, inplace=False)\n",
              "          )\n",
              "        )\n",
              "        (8): BertLayer(\n",
              "          (attention): BertAttention(\n",
              "            (self): BertSelfAttention(\n",
              "              (query): Linear(in_features=768, out_features=768, bias=True)\n",
              "              (key): Linear(in_features=768, out_features=768, bias=True)\n",
              "              (value): Linear(in_features=768, out_features=768, bias=True)\n",
              "              (dropout): Dropout(p=0.1, inplace=False)\n",
              "            )\n",
              "            (output): BertSelfOutput(\n",
              "              (dense): Linear(in_features=768, out_features=768, bias=True)\n",
              "              (LayerNorm): LayerNorm((768,), eps=1e-12, elementwise_affine=True)\n",
              "              (dropout): Dropout(p=0.1, inplace=False)\n",
              "            )\n",
              "          )\n",
              "          (intermediate): BertIntermediate(\n",
              "            (dense): Linear(in_features=768, out_features=3072, bias=True)\n",
              "          )\n",
              "          (output): BertOutput(\n",
              "            (dense): Linear(in_features=3072, out_features=768, bias=True)\n",
              "            (LayerNorm): LayerNorm((768,), eps=1e-12, elementwise_affine=True)\n",
              "            (dropout): Dropout(p=0.1, inplace=False)\n",
              "          )\n",
              "        )\n",
              "        (9): BertLayer(\n",
              "          (attention): BertAttention(\n",
              "            (self): BertSelfAttention(\n",
              "              (query): Linear(in_features=768, out_features=768, bias=True)\n",
              "              (key): Linear(in_features=768, out_features=768, bias=True)\n",
              "              (value): Linear(in_features=768, out_features=768, bias=True)\n",
              "              (dropout): Dropout(p=0.1, inplace=False)\n",
              "            )\n",
              "            (output): BertSelfOutput(\n",
              "              (dense): Linear(in_features=768, out_features=768, bias=True)\n",
              "              (LayerNorm): LayerNorm((768,), eps=1e-12, elementwise_affine=True)\n",
              "              (dropout): Dropout(p=0.1, inplace=False)\n",
              "            )\n",
              "          )\n",
              "          (intermediate): BertIntermediate(\n",
              "            (dense): Linear(in_features=768, out_features=3072, bias=True)\n",
              "          )\n",
              "          (output): BertOutput(\n",
              "            (dense): Linear(in_features=3072, out_features=768, bias=True)\n",
              "            (LayerNorm): LayerNorm((768,), eps=1e-12, elementwise_affine=True)\n",
              "            (dropout): Dropout(p=0.1, inplace=False)\n",
              "          )\n",
              "        )\n",
              "        (10): BertLayer(\n",
              "          (attention): BertAttention(\n",
              "            (self): BertSelfAttention(\n",
              "              (query): Linear(in_features=768, out_features=768, bias=True)\n",
              "              (key): Linear(in_features=768, out_features=768, bias=True)\n",
              "              (value): Linear(in_features=768, out_features=768, bias=True)\n",
              "              (dropout): Dropout(p=0.1, inplace=False)\n",
              "            )\n",
              "            (output): BertSelfOutput(\n",
              "              (dense): Linear(in_features=768, out_features=768, bias=True)\n",
              "              (LayerNorm): LayerNorm((768,), eps=1e-12, elementwise_affine=True)\n",
              "              (dropout): Dropout(p=0.1, inplace=False)\n",
              "            )\n",
              "          )\n",
              "          (intermediate): BertIntermediate(\n",
              "            (dense): Linear(in_features=768, out_features=3072, bias=True)\n",
              "          )\n",
              "          (output): BertOutput(\n",
              "            (dense): Linear(in_features=3072, out_features=768, bias=True)\n",
              "            (LayerNorm): LayerNorm((768,), eps=1e-12, elementwise_affine=True)\n",
              "            (dropout): Dropout(p=0.1, inplace=False)\n",
              "          )\n",
              "        )\n",
              "        (11): BertLayer(\n",
              "          (attention): BertAttention(\n",
              "            (self): BertSelfAttention(\n",
              "              (query): Linear(in_features=768, out_features=768, bias=True)\n",
              "              (key): Linear(in_features=768, out_features=768, bias=True)\n",
              "              (value): Linear(in_features=768, out_features=768, bias=True)\n",
              "              (dropout): Dropout(p=0.1, inplace=False)\n",
              "            )\n",
              "            (output): BertSelfOutput(\n",
              "              (dense): Linear(in_features=768, out_features=768, bias=True)\n",
              "              (LayerNorm): LayerNorm((768,), eps=1e-12, elementwise_affine=True)\n",
              "              (dropout): Dropout(p=0.1, inplace=False)\n",
              "            )\n",
              "          )\n",
              "          (intermediate): BertIntermediate(\n",
              "            (dense): Linear(in_features=768, out_features=3072, bias=True)\n",
              "          )\n",
              "          (output): BertOutput(\n",
              "            (dense): Linear(in_features=3072, out_features=768, bias=True)\n",
              "            (LayerNorm): LayerNorm((768,), eps=1e-12, elementwise_affine=True)\n",
              "            (dropout): Dropout(p=0.1, inplace=False)\n",
              "          )\n",
              "        )\n",
              "      )\n",
              "    )\n",
              "    (pooler): BertPooler(\n",
              "      (dense): Linear(in_features=768, out_features=768, bias=True)\n",
              "      (activation): Tanh()\n",
              "    )\n",
              "  )\n",
              "  (dropout): Dropout(p=0.1, inplace=False)\n",
              "  (classifier): Linear(in_features=768, out_features=2, bias=True)\n",
              ")"
            ]
          },
          "metadata": {
            "tags": []
          },
          "execution_count": 10
        }
      ]
    },
    {
      "cell_type": "markdown",
      "metadata": {
        "id": "uCGxfV6UaLx4"
      },
      "source": [
        "## Train"
      ]
    },
    {
      "cell_type": "code",
      "metadata": {
        "id": "CFYQNV_eaaVA"
      },
      "source": [
        "def train_batch(model, data, optimizer, device):\n",
        "    model.train()\n",
        "    input_ids, token_type_ids, attention_mask, labels = [d.to(device) for d in data]\n",
        "\n",
        "    outputs = model(\n",
        "        input_ids=input_ids,\n",
        "        token_type_ids=token_type_ids,\n",
        "        attention_mask=attention_mask,\n",
        "        labels=labels\n",
        "    )\n",
        "    loss = outputs.loss\n",
        "\n",
        "    optimizer.zero_grad()\n",
        "    loss.backward()\n",
        "    optimizer.step()\n",
        "    return loss.item()\n",
        "\n",
        "def evaluate(model, valid_loader, device):\n",
        "    model.eval()\n",
        "\n",
        "    loss = RunningAverage()\n",
        "    acc = RunningAverage()\n",
        "\n",
        "    with torch.no_grad():\n",
        "        for data in tqdm(valid_loader, desc='evaluate'):\n",
        "            input_ids, token_type_ids, attention_mask, labels = [d.to(device) for d in data]\n",
        "\n",
        "            outputs = model(\n",
        "                input_ids=input_ids,\n",
        "                token_type_ids=token_type_ids,\n",
        "                attention_mask=attention_mask,\n",
        "                labels=labels\n",
        "            )\n",
        "\n",
        "            loss.add(outputs.loss.item())\n",
        "            corrects = (outputs.logits.argmax(dim=-1) == labels).cpu().tolist()\n",
        "            acc.add_all(corrects)\n",
        "\n",
        "    return loss.get(), acc.get()"
      ],
      "execution_count": 15,
      "outputs": []
    },
    {
      "cell_type": "code",
      "metadata": {
        "id": "hZp1-O0KaJ-r",
        "outputId": "6e86e188-7f86-48d4-d39d-a092da59bb45",
        "colab": {
          "base_uri": "https://localhost:8080/"
        }
      },
      "source": [
        "lr = 0.00001\n",
        "max_iter = 100\n",
        "show_per_iter = 10\n",
        "valid_per_iter = 50\n",
        "save_per_iter = 100\n",
        "save_checkpoint_dir = 'models/'\n",
        "model_prefix = 'cn_sentiment_class_'\n",
        "reload_checkpoint = None\n",
        "\n",
        "assert save_per_iter % valid_per_iter == 0\n",
        "\n",
        "optimizer = optim.Adam(model.parameters(), lr=lr)\n",
        "\n",
        "i = 1\n",
        "is_running = True\n",
        "train_loss = RunningAverage()\n",
        "while is_running:\n",
        "    for train_data in train_loader:\n",
        "        loss = train_batch(model, train_data, optimizer, device)\n",
        "        train_loss.add(loss)\n",
        "\n",
        "        if i % show_per_iter == 0:\n",
        "            print('train [{}]: loss={}'.format(i, train_loss.get()))\n",
        "            train_loss.flush()\n",
        "\n",
        "        if i % valid_per_iter == 0:\n",
        "            loss, acc = evaluate(model, valid_loader, device)\n",
        "            print(f'valid: loss={loss}, acc={acc}')\n",
        "\n",
        "        if i % save_per_iter == 0:\n",
        "            path = os.path.join(save_checkpoint_dir, model_prefix + f'loss{loss:.5}/')\n",
        "            print(f'save model at {path}')\n",
        "            model.save_pretrained(path)\n",
        "        \n",
        "        if i == max_iter:\n",
        "            is_running = False\n",
        "            break\n",
        "\n",
        "        i += 1"
      ],
      "execution_count": null,
      "outputs": [
        {
          "output_type": "stream",
          "text": [
            "train [10]: loss=0.13257569763809443\n",
            "train [20]: loss=0.07600871361792087\n",
            "train [30]: loss=0.10189774688333272\n",
            "train [40]: loss=0.08387432228773832\n"
          ],
          "name": "stdout"
        },
        {
          "output_type": "stream",
          "text": [
            "\revaluate:   0%|          | 0/438 [00:00<?, ?it/s]"
          ],
          "name": "stderr"
        },
        {
          "output_type": "stream",
          "text": [
            "train [50]: loss=0.11318453000858426\n"
          ],
          "name": "stdout"
        },
        {
          "output_type": "stream",
          "text": [
            "evaluate: 100%|██████████| 438/438 [01:22<00:00,  5.30it/s]\n"
          ],
          "name": "stderr"
        },
        {
          "output_type": "stream",
          "text": [
            "valid: loss=0.09331045881951372, acc=0.9674285714285714\n",
            "train [60]: loss=0.16492213755846025\n",
            "train [70]: loss=0.15872838124632835\n",
            "train [80]: loss=0.13649716190993785\n",
            "train [90]: loss=0.1124349880963564\n"
          ],
          "name": "stdout"
        },
        {
          "output_type": "stream",
          "text": [
            "evaluate:   0%|          | 1/438 [00:00<01:19,  5.49it/s]"
          ],
          "name": "stderr"
        },
        {
          "output_type": "stream",
          "text": [
            "train [100]: loss=0.10219061672687531\n"
          ],
          "name": "stdout"
        },
        {
          "output_type": "stream",
          "text": [
            "evaluate: 100%|██████████| 438/438 [01:22<00:00,  5.30it/s]\n"
          ],
          "name": "stderr"
        },
        {
          "output_type": "stream",
          "text": [
            "valid: loss=0.09794885570770256, acc=0.9635\n",
            "save model at models/cn_sentiment_class_loss0.097949/\n",
            "train [110]: loss=0.06595614422112703\n",
            "train [120]: loss=0.09449335867539048\n",
            "train [130]: loss=0.08556640562601388\n",
            "train [140]: loss=0.06297143679112197\n"
          ],
          "name": "stdout"
        },
        {
          "output_type": "stream",
          "text": [
            "evaluate:   0%|          | 1/438 [00:00<01:21,  5.37it/s]"
          ],
          "name": "stderr"
        },
        {
          "output_type": "stream",
          "text": [
            "train [150]: loss=0.118714439868927\n"
          ],
          "name": "stdout"
        },
        {
          "output_type": "stream",
          "text": [
            "evaluate:  92%|█████████▏| 401/438 [01:15<00:07,  5.10it/s]"
          ],
          "name": "stderr"
        }
      ]
    },
    {
      "cell_type": "code",
      "metadata": {
        "id": "FBgxvvHybnFb"
      },
      "source": [
        ""
      ],
      "execution_count": null,
      "outputs": []
    }
  ]
}